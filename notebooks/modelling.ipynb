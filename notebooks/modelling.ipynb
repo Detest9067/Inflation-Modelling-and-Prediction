{
 "cells": [
  {
   "cell_type": "code",
   "execution_count": 35,
   "metadata": {},
   "outputs": [],
   "source": [
    "import sys\n",
    "sys.path.append(r\"/home/graham/Documents/Ironhack/Final-Project\")\n",
    "import src\n",
    "import sklearn\n",
    "from sklearn.ensemble import RandomForestRegressor\n",
    "from sklearn.tree import DecisionTreeRegressor\n",
    "from sklearn.model_selection import train_test_split\n",
    "from sklearn.linear_model import LinearRegression\n",
    "from sklearn.model_selection import GridSearchCV\n",
    "from sklearn.metrics import mean_squared_error\n",
    "from sklearn.metrics import r2_score\n",
    "from sklearn.preprocessing import StandardScaler\n",
    "from sklearn.pipeline import Pipeline\n"
   ]
  },
  {
   "cell_type": "code",
   "execution_count": 36,
   "metadata": {},
   "outputs": [],
   "source": [
    "path = ('/home/graham/Documents/Ironhack/Final-Project/data/combined_data.csv')\n",
    "df = src.read_csv_file(path)\n"
   ]
  },
  {
   "cell_type": "code",
   "execution_count": 3,
   "metadata": {},
   "outputs": [],
   "source": [
    "X = df[['2021 TR', '2022 TR', '2021 Inf', '2021 ED', '2022 ED', '2021 GHI', '2022 GHI']]\n",
    "y = df['2022 Inf']"
   ]
  },
  {
   "cell_type": "code",
   "execution_count": 40,
   "metadata": {},
   "outputs": [
    {
     "name": "stdout",
     "output_type": "stream",
     "text": [
      "Best hyperparameters: {'regressor__max_depth': 5, 'regressor__max_features': 'sqrt', 'regressor__min_samples_leaf': 1, 'regressor__min_samples_split': 5}\n",
      "Best score: -0.2551617791254649\n",
      "Decision Tree R^2 score: -0.5942452712475599\n"
     ]
    }
   ],
   "source": [
    "'''DECISION TREE'''\n",
    "X = df[['2021 TR', '2022 TR', '2021 Inf', '2021 ED', '2022 ED', '2021 GHI', '2022 GHI']]\n",
    "y = df['2022 Inf']\n",
    "\n",
    "# Scale features\n",
    "scaler = StandardScaler()\n",
    "X_scaled = scaler.fit_transform(X)\n",
    "\n",
    "# Split data into training and testing sets\n",
    "X_train, X_test, y_train, y_test = train_test_split(X_scaled, y, test_size=0.3, random_state=42)\n",
    "\n",
    "# Create pipeline with DecisionTreeRegressor\n",
    "tree_reg = DecisionTreeRegressor(random_state=42)\n",
    "pipeline = Pipeline(steps=[('regressor', tree_reg)])\n",
    "\n",
    "# Define hyperparameters for grid search\n",
    "parameters = {'regressor__max_depth': [3, 5, 7, 10],\n",
    "              'regressor__min_samples_split': [2, 5, 10],\n",
    "              'regressor__min_samples_leaf': [1, 2, 4],\n",
    "              'regressor__max_features': ['sqrt', 'log2', None]}\n",
    "\n",
    "# Create GridSearchCV object\n",
    "grid_search = GridSearchCV(pipeline, parameters, cv=5, scoring='r2')\n",
    "\n",
    "# Fit GridSearchCV object to training data\n",
    "grid_search.fit(X_train, y_train)\n",
    "\n",
    "# Print best hyperparameters and score\n",
    "print(\"Best hyperparameters:\", grid_search.best_params_)\n",
    "print(\"Best score:\", grid_search.best_score_)\n",
    "\n",
    "# Use best model to predict on test data\n",
    "y_pred = grid_search.predict(X_test)\n",
    "\n",
    "# Evaluate performance of best model\n",
    "r2_score = r2_score(y_test, y_pred)\n",
    "print(\"Decision Tree R^2 score:\", r2_score)"
   ]
  },
  {
   "cell_type": "code",
   "execution_count": 37,
   "metadata": {},
   "outputs": [],
   "source": [
    "'''LINEAR REGRESSION'''\n",
    "X_train, X_test, y_train, y_test = train_test_split(\n",
    "    df[['2021 TR', '2022 TR','2021 Inf', '2021 ED', '2022 ED', '2021 GHI', '2022 GHI']],\n",
    "    df['2022 Inf'],\n",
    "    test_size=0.2,\n",
    "    random_state=42\n",
    ")\n",
    "\n",
    "scaler = StandardScaler()\n",
    "lr = LinearRegression()\n",
    "\n",
    "pipeline = Pipeline([('scaler', scaler), ('lr', lr)])\n",
    "\n",
    "param_grid = {\n",
    "    'lr__fit_intercept': [True, False],\n",
    "    'lr__copy_X': [True, False]\n",
    "}\n",
    "\n",
    "grid = GridSearchCV(pipeline, param_grid=param_grid, cv=5, scoring='r2', n_jobs=-1)\n",
    "grid.fit(X_train, y_train)\n",
    "\n",
    "y_pred = grid.predict(X_test)\n"
   ]
  },
  {
   "cell_type": "code",
   "execution_count": 38,
   "metadata": {},
   "outputs": [
    {
     "name": "stdout",
     "output_type": "stream",
     "text": [
      "Linear Regression R^2 score: -0.8028201857368651\n",
      "Best parameters: {'lr__copy_X': True, 'lr__fit_intercept': True}\n",
      "Best score: -0.12324793371641292\n"
     ]
    }
   ],
   "source": [
    "r2 = r2_score(y_test, y_pred)\n",
    "print(\"Linear Regression R^2 score:\", r2)\n",
    "print(\"Best parameters:\", grid.best_params_)\n",
    "print(\"Best score:\", grid.best_score_)\n",
    "\n"
   ]
  },
  {
   "cell_type": "code",
   "execution_count": 39,
   "metadata": {},
   "outputs": [
    {
     "name": "stdout",
     "output_type": "stream",
     "text": [
      "Best parameters: {'max_depth': 5, 'max_features': 'log2', 'n_estimators': 100}\n",
      "Best score: 0.4221601254785858\n",
      "Random Forest R^2 score: -0.22820700709030017\n"
     ]
    }
   ],
   "source": [
    "'''Random Forest'''\n",
    "# Define feature and target variables\n",
    "X = df[['2021 TR', '2022 TR', '2021 Inf', '2021 ED', '2022 ED', '2021 GHI', '2022 GHI']]\n",
    "y = df['2022 Inf']\n",
    "\n",
    "# Scale the feature variables\n",
    "scaler = StandardScaler()\n",
    "X_scaled = scaler.fit_transform(X)\n",
    "\n",
    "# Split data into training and testing sets\n",
    "X_train, X_test, y_train, y_test = train_test_split(X_scaled, y, test_size=0.2, random_state=42)\n",
    "\n",
    "# Define parameter grid for grid search\n",
    "param_grid = {\n",
    "    'n_estimators': [100, 200, 500],\n",
    "    'max_features': ['sqrt', 'log2'],\n",
    "    'max_depth': [3, 5, 7, None]\n",
    "}\n",
    "\n",
    "# Define random forest regressor\n",
    "rf = RandomForestRegressor()\n",
    "\n",
    "# Perform grid search to find the best hyperparameters\n",
    "rf_grid = GridSearchCV(estimator=rf, param_grid=param_grid, cv=5, n_jobs=-1)\n",
    "rf_grid.fit(X_train, y_train)\n",
    "\n",
    "# Print best hyperparameters and score\n",
    "print(\"Best parameters:\", rf_grid.best_params_)\n",
    "print(\"Best score:\", rf_grid.best_score_)\n",
    "\n",
    "# Predict on test set with best model from grid search\n",
    "y_pred = rf_grid.predict(X_test)\n",
    "\n",
    "# Evaluate model performance on test set\n",
    "r2 = r2_score(y_test, y_pred)\n",
    "print(\"Random Forest R^2 score:\", r2)\n"
   ]
  }
 ],
 "metadata": {
  "kernelspec": {
   "display_name": "streamlit",
   "language": "python",
   "name": "python3"
  },
  "language_info": {
   "codemirror_mode": {
    "name": "ipython",
    "version": 3
   },
   "file_extension": ".py",
   "mimetype": "text/x-python",
   "name": "python",
   "nbconvert_exporter": "python",
   "pygments_lexer": "ipython3",
   "version": "3.10.9"
  },
  "orig_nbformat": 4
 },
 "nbformat": 4,
 "nbformat_minor": 2
}
