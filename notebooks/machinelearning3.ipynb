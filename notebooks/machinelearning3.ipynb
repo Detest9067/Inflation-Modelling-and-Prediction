{
 "cells": [
  {
   "cell_type": "code",
   "execution_count": 1,
   "metadata": {},
   "outputs": [],
   "source": [
    "import sys\n",
    "sys.path.append(r\"/home/graham/Documents/Ironhack/Final-Project\")\n",
    "import src\n",
    "import numpy as np"
   ]
  },
  {
   "cell_type": "code",
   "execution_count": 2,
   "metadata": {},
   "outputs": [
    {
     "name": "stdout",
     "output_type": "stream",
     "text": [
      "Checking whether there is an H2O instance running at http://localhost:54321. connected.\n"
     ]
    },
    {
     "data": {
      "text/html": [
       "\n",
       "<style>\n",
       "\n",
       "#h2o-table-1.h2o-container {\n",
       "  overflow-x: auto;\n",
       "}\n",
       "#h2o-table-1 .h2o-table {\n",
       "  /* width: 100%; */\n",
       "  margin-top: 1em;\n",
       "  margin-bottom: 1em;\n",
       "}\n",
       "#h2o-table-1 .h2o-table caption {\n",
       "  white-space: nowrap;\n",
       "  caption-side: top;\n",
       "  text-align: left;\n",
       "  /* margin-left: 1em; */\n",
       "  margin: 0;\n",
       "  font-size: larger;\n",
       "}\n",
       "#h2o-table-1 .h2o-table thead {\n",
       "  white-space: nowrap; \n",
       "  position: sticky;\n",
       "  top: 0;\n",
       "  box-shadow: 0 -1px inset;\n",
       "}\n",
       "#h2o-table-1 .h2o-table tbody {\n",
       "  overflow: auto;\n",
       "}\n",
       "#h2o-table-1 .h2o-table th,\n",
       "#h2o-table-1 .h2o-table td {\n",
       "  text-align: right;\n",
       "  /* border: 1px solid; */\n",
       "}\n",
       "#h2o-table-1 .h2o-table tr:nth-child(even) {\n",
       "  /* background: #F5F5F5 */\n",
       "}\n",
       "\n",
       "</style>      \n",
       "<div id=\"h2o-table-1\" class=\"h2o-container\">\n",
       "  <table class=\"h2o-table\">\n",
       "    <caption></caption>\n",
       "    <thead></thead>\n",
       "    <tbody><tr><td>H2O_cluster_uptime:</td>\n",
       "<td>26 mins 09 secs</td></tr>\n",
       "<tr><td>H2O_cluster_timezone:</td>\n",
       "<td>Europe/Madrid</td></tr>\n",
       "<tr><td>H2O_data_parsing_timezone:</td>\n",
       "<td>UTC</td></tr>\n",
       "<tr><td>H2O_cluster_version:</td>\n",
       "<td>3.40.0.2</td></tr>\n",
       "<tr><td>H2O_cluster_version_age:</td>\n",
       "<td>5 days</td></tr>\n",
       "<tr><td>H2O_cluster_name:</td>\n",
       "<td>H2O_from_python_graham_zczj8m</td></tr>\n",
       "<tr><td>H2O_cluster_total_nodes:</td>\n",
       "<td>1</td></tr>\n",
       "<tr><td>H2O_cluster_free_memory:</td>\n",
       "<td>1.845 Gb</td></tr>\n",
       "<tr><td>H2O_cluster_total_cores:</td>\n",
       "<td>4</td></tr>\n",
       "<tr><td>H2O_cluster_allowed_cores:</td>\n",
       "<td>4</td></tr>\n",
       "<tr><td>H2O_cluster_status:</td>\n",
       "<td>locked, healthy</td></tr>\n",
       "<tr><td>H2O_connection_url:</td>\n",
       "<td>http://localhost:54321</td></tr>\n",
       "<tr><td>H2O_connection_proxy:</td>\n",
       "<td>{\"http\": null, \"https\": null}</td></tr>\n",
       "<tr><td>H2O_internal_security:</td>\n",
       "<td>False</td></tr>\n",
       "<tr><td>Python_version:</td>\n",
       "<td>3.10.9 final</td></tr></tbody>\n",
       "  </table>\n",
       "</div>\n"
      ],
      "text/plain": [
       "--------------------------  -----------------------------\n",
       "H2O_cluster_uptime:         26 mins 09 secs\n",
       "H2O_cluster_timezone:       Europe/Madrid\n",
       "H2O_data_parsing_timezone:  UTC\n",
       "H2O_cluster_version:        3.40.0.2\n",
       "H2O_cluster_version_age:    5 days\n",
       "H2O_cluster_name:           H2O_from_python_graham_zczj8m\n",
       "H2O_cluster_total_nodes:    1\n",
       "H2O_cluster_free_memory:    1.845 Gb\n",
       "H2O_cluster_total_cores:    4\n",
       "H2O_cluster_allowed_cores:  4\n",
       "H2O_cluster_status:         locked, healthy\n",
       "H2O_connection_url:         http://localhost:54321\n",
       "H2O_connection_proxy:       {\"http\": null, \"https\": null}\n",
       "H2O_internal_security:      False\n",
       "Python_version:             3.10.9 final\n",
       "--------------------------  -----------------------------"
      ]
     },
     "metadata": {},
     "output_type": "display_data"
    }
   ],
   "source": [
    "'''USING H20 TO FIND BETTER MODELS'''\n",
    "import h2o\n",
    "from h2o.automl import H2OAutoML\n",
    "\n",
    "# Start H2O cluster\n",
    "h2o.init()"
   ]
  },
  {
   "cell_type": "code",
   "execution_count": 3,
   "metadata": {},
   "outputs": [],
   "source": [
    "path = ('/home/graham/Documents/Ironhack/Final-Project/data/combined_data.csv')\n",
    "df = src.read_csv_file(path)\n"
   ]
  },
  {
   "cell_type": "code",
   "execution_count": 4,
   "metadata": {},
   "outputs": [
    {
     "name": "stdout",
     "output_type": "stream",
     "text": [
      "Parse progress: |████████████████████████████████████████████████████████████████| (done) 100%\n"
     ]
    }
   ],
   "source": [
    "df = h2o.import_file(path)"
   ]
  },
  {
   "cell_type": "code",
   "execution_count": 7,
   "metadata": {},
   "outputs": [
    {
     "data": {
      "text/plain": [
       "'3.40.0.2'"
      ]
     },
     "execution_count": 7,
     "metadata": {},
     "output_type": "execute_result"
    }
   ],
   "source": [
    "h2o.__version__"
   ]
  },
  {
   "cell_type": "code",
   "execution_count": 38,
   "metadata": {},
   "outputs": [
    {
     "name": "stdout",
     "output_type": "stream",
     "text": [
      "drf Grid Build progress: |███████████████████████████████████████████████████████| (done) 100%\n"
     ]
    },
    {
     "data": {
      "text/html": [
       "\n",
       "<style>\n",
       "\n",
       "#h2o-table-4.h2o-container {\n",
       "  overflow-x: auto;\n",
       "}\n",
       "#h2o-table-4 .h2o-table {\n",
       "  /* width: 100%; */\n",
       "  margin-top: 1em;\n",
       "  margin-bottom: 1em;\n",
       "}\n",
       "#h2o-table-4 .h2o-table caption {\n",
       "  white-space: nowrap;\n",
       "  caption-side: top;\n",
       "  text-align: left;\n",
       "  /* margin-left: 1em; */\n",
       "  margin: 0;\n",
       "  font-size: larger;\n",
       "}\n",
       "#h2o-table-4 .h2o-table thead {\n",
       "  white-space: nowrap; \n",
       "  position: sticky;\n",
       "  top: 0;\n",
       "  box-shadow: 0 -1px inset;\n",
       "}\n",
       "#h2o-table-4 .h2o-table tbody {\n",
       "  overflow: auto;\n",
       "}\n",
       "#h2o-table-4 .h2o-table th,\n",
       "#h2o-table-4 .h2o-table td {\n",
       "  text-align: right;\n",
       "  /* border: 1px solid; */\n",
       "}\n",
       "#h2o-table-4 .h2o-table tr:nth-child(even) {\n",
       "  /* background: #F5F5F5 */\n",
       "}\n",
       "\n",
       "</style>      \n",
       "<div id=\"h2o-table-4\" class=\"h2o-container\">\n",
       "  <table class=\"h2o-table\">\n",
       "    <caption>Hyper-Parameter Search Summary: ordered by increasing residual_deviance</caption>\n",
       "    <thead><tr><th></th>\n",
       "<th>max_depth</th>\n",
       "<th>min_rows</th>\n",
       "<th>ntrees</th>\n",
       "<th>model_ids</th>\n",
       "<th>residual_deviance</th></tr></thead>\n",
       "    <tbody><tr><td></td>\n",
       "<td>20.0</td>\n",
       "<td>1.0</td>\n",
       "<td>300.0</td>\n",
       "<td>rf_grid_model_59</td>\n",
       "<td>0.1226311</td></tr>\n",
       "<tr><td></td>\n",
       "<td>30.0</td>\n",
       "<td>1.0</td>\n",
       "<td>300.0</td>\n",
       "<td>rf_grid_model_53</td>\n",
       "<td>0.1273672</td></tr>\n",
       "<tr><td></td>\n",
       "<td>10.0</td>\n",
       "<td>2.0</td>\n",
       "<td>300.0</td>\n",
       "<td>rf_grid_model_55</td>\n",
       "<td>0.1934141</td></tr>\n",
       "<tr><td></td>\n",
       "<td>20.0</td>\n",
       "<td>5.0</td>\n",
       "<td>300.0</td>\n",
       "<td>rf_grid_model_57</td>\n",
       "<td>0.2752037</td></tr>\n",
       "<tr><td></td>\n",
       "<td>20.0</td>\n",
       "<td>5.0</td>\n",
       "<td>100.0</td>\n",
       "<td>rf_grid_model_52</td>\n",
       "<td>0.3362811</td></tr>\n",
       "<tr><td></td>\n",
       "<td>10.0</td>\n",
       "<td>1.0</td>\n",
       "<td>200.0</td>\n",
       "<td>rf_grid_model_51</td>\n",
       "<td>0.3683120</td></tr>\n",
       "<tr><td></td>\n",
       "<td>20.0</td>\n",
       "<td>5.0</td>\n",
       "<td>300.0</td>\n",
       "<td>rf_grid_model_58</td>\n",
       "<td>0.3907682</td></tr>\n",
       "<tr><td></td>\n",
       "<td>30.0</td>\n",
       "<td>5.0</td>\n",
       "<td>100.0</td>\n",
       "<td>rf_grid_model_60</td>\n",
       "<td>0.4128769</td></tr>\n",
       "<tr><td></td>\n",
       "<td>30.0</td>\n",
       "<td>1.0</td>\n",
       "<td>200.0</td>\n",
       "<td>rf_grid_model_54</td>\n",
       "<td>0.5174589</td></tr>\n",
       "<tr><td></td>\n",
       "<td>10.0</td>\n",
       "<td>2.0</td>\n",
       "<td>300.0</td>\n",
       "<td>rf_grid_model_56</td>\n",
       "<td>0.5765567</td></tr>\n",
       "<tr><td>---</td>\n",
       "<td>---</td>\n",
       "<td>---</td>\n",
       "<td>---</td>\n",
       "<td>---</td>\n",
       "<td>---</td></tr>\n",
       "<tr><td></td>\n",
       "<td>10.0</td>\n",
       "<td>2.0</td>\n",
       "<td>100.0</td>\n",
       "<td>rf_grid_model_10</td>\n",
       "<td>6.3056142</td></tr>\n",
       "<tr><td></td>\n",
       "<td>10.0</td>\n",
       "<td>2.0</td>\n",
       "<td>100.0</td>\n",
       "<td>rf_grid_model_20</td>\n",
       "<td>6.3056142</td></tr>\n",
       "<tr><td></td>\n",
       "<td>30.0</td>\n",
       "<td>1.0</td>\n",
       "<td>100.0</td>\n",
       "<td>rf_grid_model_12</td>\n",
       "<td>6.5384783</td></tr>\n",
       "<tr><td></td>\n",
       "<td>30.0</td>\n",
       "<td>1.0</td>\n",
       "<td>100.0</td>\n",
       "<td>rf_grid_model_2</td>\n",
       "<td>6.5384783</td></tr>\n",
       "<tr><td></td>\n",
       "<td>30.0</td>\n",
       "<td>5.0</td>\n",
       "<td>150.0</td>\n",
       "<td>rf_grid_model_14</td>\n",
       "<td>6.8300130</td></tr>\n",
       "<tr><td></td>\n",
       "<td>30.0</td>\n",
       "<td>5.0</td>\n",
       "<td>150.0</td>\n",
       "<td>rf_grid_model_4</td>\n",
       "<td>6.8300130</td></tr>\n",
       "<tr><td></td>\n",
       "<td>30.0</td>\n",
       "<td>5.0</td>\n",
       "<td>100.0</td>\n",
       "<td>rf_grid_model_13</td>\n",
       "<td>7.0598787</td></tr>\n",
       "<tr><td></td>\n",
       "<td>30.0</td>\n",
       "<td>5.0</td>\n",
       "<td>100.0</td>\n",
       "<td>rf_grid_model_3</td>\n",
       "<td>7.0598787</td></tr>\n",
       "<tr><td></td>\n",
       "<td>20.0</td>\n",
       "<td>5.0</td>\n",
       "<td>50.0</td>\n",
       "<td>rf_grid_model_17</td>\n",
       "<td>8.3069399</td></tr>\n",
       "<tr><td></td>\n",
       "<td>20.0</td>\n",
       "<td>5.0</td>\n",
       "<td>50.0</td>\n",
       "<td>rf_grid_model_7</td>\n",
       "<td>8.3069399</td></tr></tbody>\n",
       "  </table>\n",
       "</div>\n",
       "<pre style='font-size: smaller; margin-bottom: 1em;'>[60 rows x 6 columns]</pre>"
      ],
      "text/plain": [
       "Hyper-Parameter Search Summary: ordered by increasing residual_deviance\n",
       "     max_depth    min_rows    ntrees    model_ids         residual_deviance\n",
       "---  -----------  ----------  --------  ----------------  -------------------\n",
       "     20.0         1.0         300.0     rf_grid_model_59  0.1226310539813317\n",
       "     30.0         1.0         300.0     rf_grid_model_53  0.12736723846563774\n",
       "     10.0         2.0         300.0     rf_grid_model_55  0.19341412644561518\n",
       "     20.0         5.0         300.0     rf_grid_model_57  0.27520372824238415\n",
       "     20.0         5.0         100.0     rf_grid_model_52  0.33628112307535113\n",
       "     10.0         1.0         200.0     rf_grid_model_51  0.36831198935941134\n",
       "     20.0         5.0         300.0     rf_grid_model_58  0.39076820071046664\n",
       "     30.0         5.0         100.0     rf_grid_model_60  0.41287693380664053\n",
       "     30.0         1.0         200.0     rf_grid_model_54  0.5174588504074632\n",
       "     10.0         2.0         300.0     rf_grid_model_56  0.5765567357564095\n",
       "---  ---          ---         ---       ---               ---\n",
       "     10.0         2.0         100.0     rf_grid_model_10  6.305614162910368\n",
       "     10.0         2.0         100.0     rf_grid_model_20  6.305614162910368\n",
       "     30.0         1.0         100.0     rf_grid_model_12  6.538478288395034\n",
       "     30.0         1.0         100.0     rf_grid_model_2   6.538478288395034\n",
       "     30.0         5.0         150.0     rf_grid_model_14  6.830012984909968\n",
       "     30.0         5.0         150.0     rf_grid_model_4   6.830012984909968\n",
       "     30.0         5.0         100.0     rf_grid_model_13  7.059878728188264\n",
       "     30.0         5.0         100.0     rf_grid_model_3   7.059878728188264\n",
       "     20.0         5.0         50.0      rf_grid_model_17  8.306939873816116\n",
       "     20.0         5.0         50.0      rf_grid_model_7   8.306939873816116\n",
       "[60 rows x 6 columns]\n"
      ]
     },
     "execution_count": 38,
     "metadata": {},
     "output_type": "execute_result"
    }
   ],
   "source": [
    "from h2o.grid.grid_search import H2OGridSearch\n",
    "from h2o.estimators.random_forest import H2ORandomForestEstimator\n",
    "\n",
    "target_col = '2022 Inf'\n",
    "train, valid = df.split_frame(ratios=[0.7], seed=42)\n",
    "\n",
    "# Define the hyperparameters to search over\n",
    "hyper_params = {\n",
    "    'ntrees': [100, 200, 300],\n",
    "    'max_depth': [10, 20, 30],\n",
    "    'min_rows': [1, 2, 5],\n",
    "    'mtries': [2, 4, 6],\n",
    "    'sample_rate': [0.7, 0.8, 0.9],\n",
    "    'col_sample_rate_per_tree': [0.7, 0.8, 0.9],\n",
    "    'min_split_improvement': [1e-4, 1e-5, 1e-6]\n",
    "}\n",
    "\n",
    "\n",
    "# Create a grid search object\n",
    "rf_grid = H2OGridSearch(\n",
    "    model=H2ORandomForestEstimator,\n",
    "    grid_id='rf_grid',\n",
    "    hyper_params=hyper_params,\n",
    "    search_criteria={'strategy': 'RandomDiscrete', 'max_models': 10, 'seed': 42}\n",
    ")\n",
    "\n",
    "# Train the grid search object\n",
    "rf_grid.train(x=train.names[:-1], y=train.names[-1], training_frame=train, validation_frame=valid)"
   ]
  },
  {
   "cell_type": "code",
   "execution_count": 39,
   "metadata": {},
   "outputs": [
    {
     "name": "stdout",
     "output_type": "stream",
     "text": [
      "Best model: (R-squared: 0.9892)\n"
     ]
    }
   ],
   "source": [
    "best_model = rf_grid.models[0]\n",
    "if best_model.model_performance(valid=True) is not None:\n",
    "    r2 = best_model.r2(valid=True)\n",
    "    print(f\"Best model: (R-squared: {r2:.4f})\")\n",
    "else:\n",
    "    print(\"Best model has no validation data.\")\n"
   ]
  },
  {
   "cell_type": "code",
   "execution_count": 40,
   "metadata": {},
   "outputs": [
    {
     "name": "stdout",
     "output_type": "stream",
     "text": [
      "drf prediction progress: |███████████████████████████████████████████████████████| (done) 100%\n",
      "R-squared: 0.9892\n",
      "MAE: 0.2834\n",
      "RMSE: 0.3502\n",
      "MAPE: 81.82%\n"
     ]
    }
   ],
   "source": [
    "# Use the best model for prediction\n",
    "predictions = best_model.predict(valid)\n",
    "# Calculate R-squared on the test set\n",
    "r2 = best_model.r2(valid=True)\n",
    "print(f\"R-squared: {r2:.4f}\")\n",
    "\n",
    "# Calculate MAE on the test set\n",
    "mae = best_model.mae(valid=True)\n",
    "print(f\"MAE: {mae:.4f}\")\n",
    "\n",
    "# Calculate RMSE on the test set\n",
    "rmse = best_model.rmse(valid=True)\n",
    "print(f\"RMSE: {rmse:.4f}\")\n",
    "\n",
    "# Calculate MAPE on the test set\n",
    "actuals = valid[target_col].as_data_frame().values.flatten()\n",
    "preds = predictions['predict'].as_data_frame().values.flatten()\n",
    "mape = np.mean(np.abs((actuals - preds) / actuals)) * 100\n",
    "print(f\"MAPE: {mape:.2f}%\")\n"
   ]
  },
  {
   "cell_type": "code",
   "execution_count": 36,
   "metadata": {},
   "outputs": [
    {
     "data": {
      "image/png": "[encoded data removed]",
      "text/plain": [
       "<Figure size 640x480 with 1 Axes>"
      ]
     },
     "metadata": {},
     "output_type": "display_data"
    }
   ],
   "source": [
    "import matplotlib.pyplot as plt\n",
    "\n",
    "# Get the actual target values for the validation set\n",
    "y_true = valid[target_col].as_data_frame().values\n",
    "\n",
    "# Get the predicted target values for the validation set\n",
    "y_pred = predictions['predict'].as_data_frame().values\n",
    "\n",
    "# Calculate the residuals\n",
    "residuals = y_true - y_pred\n",
    "\n",
    "# Create a scatter plot of the residuals\n",
    "plt.scatter(y_pred, residuals)\n",
    "plt.xlabel('Predicted')\n",
    "plt.ylabel('Residual')\n",
    "plt.title('Residual Plot')\n",
    "plt.savefig('/home/graham/Documents/Ironhack/Final-Project/images/residuals2.png', bbox_inches='tight')\n",
    "plt.show()"
   ]
  },
  {
   "cell_type": "code",
   "execution_count": 32,
   "metadata": {},
   "outputs": [
    {
     "name": "stdout",
     "output_type": "stream",
     "text": [
      "drf prediction progress: |███████████████████████████████████████████████████████| (done) 100%\n"
     ]
    }
   ],
   "source": [
    "df['2023 inflation'] = np.nan\n",
    "predictions = best_model.predict(df)\n",
    "df['2023 inflation'] = predictions['predict']"
   ]
  },
  {
   "cell_type": "code",
   "execution_count": 34,
   "metadata": {},
   "outputs": [
    {
     "data": {
      "image/png": "[encoded data removed]",
      "text/plain": [
       "<Figure size 640x480 with 1 Axes>"
      ]
     },
     "metadata": {},
     "output_type": "display_data"
    }
   ],
   "source": [
    "import matplotlib.pyplot as plt\n",
    "feat_imp = best_model.varimp(use_pandas=True)\n",
    "plt.barh(feat_imp['variable'], feat_imp['scaled_importance'])\n",
    "plt.title('Variable Importance')\n",
    "plt.xlabel('Scaled Importance')\n",
    "plt.ylabel('Variable')\n",
    "plt.savefig('/home/graham/Documents/Ironhack/Final-Project/images/feature2.png', bbox_inches='tight')"
   ]
  },
  {
   "cell_type": "code",
   "execution_count": 42,
   "metadata": {},
   "outputs": [
    {
     "name": "stdout",
     "output_type": "stream",
     "text": [
      "drf prediction progress: |███████████████████████████████████████████████████████| (done) 100%\n"
     ]
    },
    {
     "data": {
      "image/png": "[encoded data removed]",
      "text/plain": [
       "<Figure size 640x480 with 1 Axes>"
      ]
     },
     "metadata": {},
     "output_type": "display_data"
    }
   ],
   "source": [
    "predictions = best_model.predict(valid)\n",
    "\n",
    "# Add the predicted inflation for the next year to the predictions frame\n",
    "predictions = predictions.cbind(valid[\"2023 inflation\"])\n",
    "\n",
    "# Extract the actual and predicted values\n",
    "actuals = valid[target_col].as_data_frame().values.flatten()\n",
    "predicted = predictions[\"predict\"].as_data_frame().values.flatten()\n",
    "valid_indices = valid.as_data_frame().index.values\n",
    "actuals = actuals[valid_indices - 1]  # adjust indices to 0-based indexing\n",
    "residuals = actuals - predicted\n",
    "abs_residuals = np.abs(residuals)\n",
    "\n",
    "# Define the colors for the data points\n",
    "colors = np.where(residuals >= 0, 'b', 'r')  # blue for under-predictions, red for over-predictions\n",
    "colors = np.array(colors).flatten()\n",
    "# Plot the residuals against the actual values with colored data points\n",
    "plt.scatter(actuals, predicted, c=colors, alpha=0.5)\n",
    "plt.scatter(actuals, actuals, c='g', marker='.', alpha=0.5)\n",
    "plt.xlabel('Actuals')\n",
    "plt.ylabel('Predicted')\n",
    "plt.title('Actuals versus Predicted')\n",
    "plt.savefig('/home/graham/Documents/Ironhack/Final-Project/images/AvP3.png', bbox_inches='tight')\n",
    "plt.show()"
   ]
  },
  {
   "cell_type": "code",
   "execution_count": null,
   "metadata": {},
   "outputs": [],
   "source": []
  }
 ],
 "metadata": {
  "kernelspec": {
   "display_name": "streamlit",
   "language": "python",
   "name": "python3"
  },
  "language_info": {
   "codemirror_mode": {
    "name": "ipython",
    "version": 3
   },
   "file_extension": ".py",
   "mimetype": "text/x-python",
   "name": "python",
   "nbconvert_exporter": "python",
   "pygments_lexer": "ipython3",
   "version": "3.10.9"
  },
  "orig_nbformat": 4
 },
 "nbformat": 4,
 "nbformat_minor": 2
}
